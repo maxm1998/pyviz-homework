{
 "cells": [
  {
   "cell_type": "code",
   "execution_count": null,
   "id": "12ab5ffd-68a6-4f15-ba3a-827085562b23",
   "metadata": {},
   "outputs": [],
   "source": [
    "eighborhood_avg_rent = sfo_data[\"gross_rent\"].groupby([sfo_data.index]).mean()\n",
    "\n",
    "neighborhood = sfo_data['neighborhood']\n",
    "\n",
    "neighborhood_avg_price = sfo_data['sale_price_sqr_foot'].groupby(neighborhood).mean()\n",
    "\n",
    "#create new df\n",
    "\n",
    "neighborhood_df = (pd.concat(\n",
    "    [neighborhood, neighborhood_avg_rent, neighborhood_avg_price], axis=1))\n",
    "\n",
    "neighborhood_avg_price = neighborhood_df['sale_price_sqr_foot'].groupby(neighborhood).mean()\n",
    "\n",
    "pd.DataFrame(neighborhood_avg_price)\n",
    "\n",
    "neighborhood_df\n"
   ]
  }
 ],
 "metadata": {
  "kernelspec": {
   "display_name": "Python 3",
   "language": "python",
   "name": "python3"
  },
  "language_info": {
   "codemirror_mode": {
    "name": "ipython",
    "version": 3
   },
   "file_extension": ".py",
   "mimetype": "text/x-python",
   "name": "python",
   "nbconvert_exporter": "python",
   "pygments_lexer": "ipython3",
   "version": "3.8.8"
  }
 },
 "nbformat": 4,
 "nbformat_minor": 5
}
